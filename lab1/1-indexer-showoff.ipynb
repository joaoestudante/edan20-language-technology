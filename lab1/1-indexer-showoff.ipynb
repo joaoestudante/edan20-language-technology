{
 "cells": [
  {
   "cell_type": "markdown",
   "metadata": {},
   "source": [
    "# Assignment #1: Building an inverted index"
   ]
  },
  {
   "cell_type": "markdown",
   "metadata": {},
   "source": [
    "## Objectives"
   ]
  },
  {
   "cell_type": "markdown",
   "metadata": {},
   "source": [
    "The objectives of this assignment are to:\n",
    "* Write a program that collects all the words from a set of documents\n",
    "* Build an index from the words\n",
    "* Represent a document using the Tf.Idf values\n",
    "* Write a short report of 1 to 2 pages on the assignment\n",
    "* Read a short text on an industrial system"
   ]
  },
  {
   "cell_type": "markdown",
   "metadata": {},
   "source": [
    "## Submission"
   ]
  },
  {
   "cell_type": "markdown",
   "metadata": {},
   "source": [
    "When you have written all the missing code and run all the cells, you will submit your notebook to an automatic marking system. Do not erase the content of the cells as we will possibly check your programs manually.\n",
    "The submission instructions are at the bottom of the notebook."
   ]
  },
  {
   "cell_type": "markdown",
   "metadata": {},
   "source": [
    "## Description of the assignment"
   ]
  },
  {
   "cell_type": "markdown",
   "metadata": {},
   "source": [
    "### Outline"
   ]
  },
  {
   "cell_type": "markdown",
   "metadata": {},
   "source": [
    "In this lab, you will build an indexer to index all the words in a corpus. Conceptually, an index consists of rows with one word per row and the list of files and positions, where this word occurs. Such a row is called a _posting list_. You will encode the position of a word by the number of characters from the start of the file.\n",
    "<pre>\n",
    "word1: file_name pos1 pos2 pos3... file_name pos1 pos2 ...\n",
    "word2: file_name pos1 pos2 pos3... file_name pos1 pos2 ...\n",
    "...\n",
    "</pre>"
   ]
  },
  {
   "cell_type": "markdown",
   "metadata": {},
   "source": [
    "#### Imports"
   ]
  },
  {
   "cell_type": "markdown",
   "metadata": {},
   "source": [
    "Some imports. Add others as needed"
   ]
  },
  {
   "cell_type": "code",
   "execution_count": 1,
   "metadata": {},
   "outputs": [],
   "source": [
    "import bz2\n",
    "import math\n",
    "import os\n",
    "import pickle\n",
    "import regex as re\n",
    "import requests\n",
    "import sys\n",
    "import time\n",
    "import collections\n",
    "from zipfile import ZipFile"
   ]
  },
  {
   "cell_type": "markdown",
   "metadata": {},
   "source": [
    "## Corpus"
   ]
  },
  {
   "cell_type": "markdown",
   "metadata": {},
   "source": [
    "You will create an index for a corpus of Selma Lagerlöf's works: To gather the corpus, you can alternatively:\n",
    "1. Download the <a href=\"https://github.com/pnugues/ilppp/raw/master/programs/corpus/Selma.zip\">Selma folder</a> and uncompress it. It contains novels by <a href=\"https://sv.wikipedia.org/wiki/Selma_Lagerl%C3%B6f\">Selma Lagerlöf</a>. The text of these novels was extracted from <a href=\"https://litteraturbanken.se/forfattare/LagerlofS/titlar\">Lagerlöf arkivet</a> at <a href=\"https://litteraturbanken.se/\">Litteraturbanken</a>.\n",
    "2. Or run this cell that will download the corpus and place it in your folder."
   ]
  },
  {
   "cell_type": "code",
   "execution_count": 2,
   "metadata": {},
   "outputs": [
    {
     "name": "stdout",
     "output_type": "stream",
     "text": [
      "Selma has been downloaded.\n"
     ]
    },
    {
     "data": {
      "text/plain": [
       "['Selma/bannlyst.txt',\n",
       " 'Selma/gosta.txt',\n",
       " 'Selma/herrgard.txt',\n",
       " 'Selma/jerusalem.txt',\n",
       " 'Selma/kejsaren.txt',\n",
       " 'Selma/marbacka.txt',\n",
       " 'Selma/nils.txt',\n",
       " 'Selma/osynliga.txt',\n",
       " 'Selma/troll.txt']"
      ]
     },
     "execution_count": 2,
     "metadata": {},
     "output_type": "execute_result"
    }
   ],
   "source": [
    "# Parameters for Selma dataset\n",
    "SELMA_URL = \"https://github.com/pnugues/ilppp/raw/master/programs/corpus/Selma.zip\"\n",
    "\n",
    "SELMA_FILES = [\n",
    "    os.path.join(\"Selma\", fname) \n",
    "    for fname in \n",
    "    [\n",
    "        \"bannlyst.txt\", \n",
    "        \"gosta.txt\", \n",
    "        \"herrgard.txt\", \n",
    "        \"jerusalem.txt\", \n",
    "        \"kejsaren.txt\", \n",
    "        \"marbacka.txt\", \n",
    "        \"nils.txt\", \n",
    "        \"osynliga.txt\", \n",
    "        \"troll.txt\"\n",
    "    ]\n",
    "]\n",
    "\n",
    "def download_and_extract_selma():\n",
    "    \"\"\"Downloads and unpacks Selma.zip\"\"\"\n",
    "    \n",
    "    global SELMA_URL\n",
    "    # Download if not all files exist\n",
    "    req = requests.get(SELMA_URL, stream=True)\n",
    "    if req.status_code != 200:\n",
    "        print(\"Failed to download file, got status: \" + req.status_code)\n",
    "        req.close()\n",
    "    else:\n",
    "        with open(\"Selma.zip\", \"wb\") as fd:\n",
    "            written = 0\n",
    "            for chunk in req.iter_content(chunk_size=65536):\n",
    "                fd.write(chunk)\n",
    "                written += len(chunk)\n",
    "                print(\"Downloading: %d bytes written to Selma.zip\" % written)\n",
    "\n",
    "        print(\"Selma.zip donwnloaded.\")\n",
    "        req.close()\n",
    "        \n",
    "        selma_zipfile = ZipFile(\"Selma.zip\")\n",
    "        selma_files_to_extract = [zi for zi in selma_zipfile.filelist if not zi.filename.startswith(\"__\") and zi.filename.endswith(\".txt\")]\n",
    "        for zi in selma_files_to_extract:\n",
    "            selma_zipfile.extract(zi)\n",
    "            print(\"Extracted: \" + zi.filename)\n",
    "            \n",
    "        print(\"Done!\")\n",
    "        \n",
    "# If not all path exists (all are true), then download\n",
    "if not all([os.path.exists(fname) for fname in SELMA_FILES]):\n",
    "    download_and_extract_selma()\n",
    "else:\n",
    "    print(\"Selma has been downloaded.\")\n",
    "    \n",
    "SELMA_FILES"
   ]
  },
  {
   "cell_type": "markdown",
   "metadata": {},
   "source": [
    "### Running the indexer (optional)"
   ]
  },
  {
   "cell_type": "markdown",
   "metadata": {},
   "source": [
    "In a production context, your final program would take a corpus as input (here the Selma Lagerlöf's novels) and create an index of all the words with their positions. You should be able to run it this way:\n",
    "<pre>$ python indexer.py folder_name</pre>\n",
    "In this lab, you will write the index in a Jupyter Notebook. The conversion into a Python program is left as an optional exercise."
   ]
  },
  {
   "cell_type": "markdown",
   "metadata": {},
   "source": [
    "## Programming the Indexer"
   ]
  },
  {
   "cell_type": "markdown",
   "metadata": {},
   "source": [
    "To make programming easier, you will split this exercise into five steps:\n",
    "1. Index one file;\n",
    "2. Read the content of a folder\n",
    "3. Create a master index for all the files\n",
    "4. Use tfidf to represent the documents (novels)\n",
    "5. Compare the documents of a collection\n",
    "\n",
    "You will use dictionaries to represent the postings."
   ]
  },
  {
   "cell_type": "markdown",
   "metadata": {},
   "source": [
    "### Indexing one file"
   ]
  },
  {
   "cell_type": "markdown",
   "metadata": {},
   "source": [
    "#### Description"
   ]
  },
  {
   "cell_type": "markdown",
   "metadata": {},
   "source": [
    "<p>Write a program that reads one document <tt>file_name.txt</tt> and outputs an index file:\n",
    "            <tt>file_name.idx</tt>:\n",
    "        </p>\n",
    "        <ol>\n",
    "            <li>The index file will contain all the unique words in the document,\n",
    "                where each word is associated with the list of its positions in the document.\n",
    "            </li>\n",
    "            <li>You will represent this index as a dictionary, where the keys will be the words, and\n",
    "                the values, the lists of positions\n",
    "            </li>\n",
    "            <li>As words, you will consider all the strings of letters that you will set in lower case.\n",
    "                You will not index the rest (i.e. numbers, punctuations, or symbols).\n",
    "            </li>\n",
    "            <li>To extract the words, use Unicode regular expressions. Do not use <tt>\\w+</tt>,\n",
    "                for instance, but the Unicode equivalent.\n",
    "            </li>\n",
    "            <li>The word positions will correspond to the number of characters from the beginning of the file.\n",
    "                (The word offset from the beginning)\n",
    "            </li>\n",
    "            <li>You will use the <tt>finditer()</tt> method to find the positions of the words.\n",
    "                This will return you match objects,\n",
    "                where you will get the matches and the positions with\n",
    "                the <tt>group()</tt> and <tt>start()</tt> methods.\n",
    "            </li>\n",
    "            <li>You will use the pickle package to write your dictionary in an file,\n",
    "                see <a href=\"https://wiki.python.org/moin/UsingPickle\">https://wiki.python.org/moin/UsingPickle</a>.\n",
    "            </li>\n",
    "        </ol>"
   ]
  },
  {
   "cell_type": "markdown",
   "metadata": {},
   "source": [
    "Below is an excerpt of the index of the `bannlyst.txt` text for the words <i>gjord</i>, <i>uppklarnande</i>, and <i>stjärnor</i>. The data is stored in a dictionary:\n",
    "\n",
    "<pre>\n",
    "{...\n",
    "'gjord': [8600, 183039, 220445],\n",
    "'uppklarnande': [8617],\n",
    "'stjärnor': [8641], ...\n",
    "}\n",
    "</pre>\n",
    "where the word <i>gjord</i> occurs three times in the text at positions 8600, 183039, and 220445, <i>uppklarnande</i>, once at position 8617, and <i>stjärnor</i>, once at position 8641."
   ]
  },
  {
   "cell_type": "markdown",
   "metadata": {},
   "source": [
    "#### Writing a tokenizer "
   ]
  },
  {
   "cell_type": "markdown",
   "metadata": {},
   "source": [
    "Write a Unicode regular expression to find words defined as sequences of letters."
   ]
  },
  {
   "cell_type": "code",
   "execution_count": 3,
   "metadata": {},
   "outputs": [],
   "source": [
    "regex = r'\\p{L}+'"
   ]
  },
  {
   "cell_type": "code",
   "execution_count": 4,
   "metadata": {},
   "outputs": [
    {
     "data": {
      "text/plain": [
       "['En',\n",
       " 'gång',\n",
       " 'hade',\n",
       " 'de',\n",
       " 'på',\n",
       " 'Mårbacka',\n",
       " 'en',\n",
       " 'barnpiga',\n",
       " 'som',\n",
       " 'hette',\n",
       " 'Back',\n",
       " 'Kajsa']"
      ]
     },
     "execution_count": 4,
     "metadata": {},
     "output_type": "execute_result"
    }
   ],
   "source": [
    "re.findall(regex, 'En gång hade de på Mårbacka en barnpiga, som hette Back-Kajsa')"
   ]
  },
  {
   "cell_type": "markdown",
   "metadata": {},
   "source": [
    "Using `regex`, write `tokenize(text)` function to tokenize a text. Return their positions."
   ]
  },
  {
   "cell_type": "code",
   "execution_count": 5,
   "metadata": {},
   "outputs": [],
   "source": [
    "def tokenize(text):\n",
    "    return list(re.finditer(regex, text))"
   ]
  },
  {
   "cell_type": "code",
   "execution_count": 6,
   "metadata": {},
   "outputs": [
    {
     "data": {
      "text/plain": [
       "[<regex.Match object; span=(0, 2), match='En'>,\n",
       " <regex.Match object; span=(3, 7), match='gång'>,\n",
       " <regex.Match object; span=(8, 12), match='hade'>,\n",
       " <regex.Match object; span=(13, 15), match='de'>,\n",
       " <regex.Match object; span=(16, 18), match='på'>,\n",
       " <regex.Match object; span=(19, 27), match='Mårbacka'>,\n",
       " <regex.Match object; span=(28, 30), match='en'>,\n",
       " <regex.Match object; span=(31, 39), match='barnpiga'>,\n",
       " <regex.Match object; span=(41, 44), match='som'>,\n",
       " <regex.Match object; span=(45, 50), match='hette'>,\n",
       " <regex.Match object; span=(51, 55), match='Back'>,\n",
       " <regex.Match object; span=(56, 61), match='Kajsa'>]"
      ]
     },
     "execution_count": 6,
     "metadata": {},
     "output_type": "execute_result"
    }
   ],
   "source": [
    "tokens = tokenize('En gång hade de på Mårbacka en barnpiga, som hette Back-Kajsa.')\n",
    "list(tokens)"
   ]
  },
  {
   "cell_type": "markdown",
   "metadata": {},
   "source": [
    "#### Extracting indices"
   ]
  },
  {
   "cell_type": "markdown",
   "metadata": {},
   "source": [
    "Write a `text_to_idx(words)` function to extract the indices from the list of tokens (words). Return a dictionary, where the keys will be the tokens (words), and the values a list of positions."
   ]
  },
  {
   "cell_type": "code",
   "execution_count": 7,
   "metadata": {},
   "outputs": [],
   "source": [
    "def text_to_idx(words):\n",
    "    indexes = {}\n",
    "    for token in words:\n",
    "        word_indexes = indexes.get(token.group(), [])\n",
    "        word_indexes.append(token.start())\n",
    "        indexes[token.group()] = word_indexes\n",
    "    return indexes"
   ]
  },
  {
   "cell_type": "code",
   "execution_count": 8,
   "metadata": {},
   "outputs": [
    {
     "data": {
      "text/plain": [
       "{'en': [0, 28],\n",
       " 'gång': [3],\n",
       " 'hade': [8],\n",
       " 'de': [13],\n",
       " 'på': [16],\n",
       " 'mårbacka': [19],\n",
       " 'barnpiga': [31],\n",
       " 'som': [41],\n",
       " 'hette': [45],\n",
       " 'back': [51],\n",
       " 'kajsa': [56]}"
      ]
     },
     "execution_count": 8,
     "metadata": {},
     "output_type": "execute_result"
    }
   ],
   "source": [
    "tokens = tokenize('En gång hade de på Mårbacka en barnpiga, som hette Back-Kajsa.'.lower().strip())\n",
    "text_to_idx(tokens)"
   ]
  },
  {
   "cell_type": "markdown",
   "metadata": {},
   "source": [
    "#### Reading one file"
   ]
  },
  {
   "cell_type": "markdown",
   "metadata": {},
   "source": [
    "Read one file, _Mårbacka_, `marbacka.txt`, set it in lowercase, tokenize it, and index it. Call this index `idx`"
   ]
  },
  {
   "cell_type": "code",
   "execution_count": 9,
   "metadata": {},
   "outputs": [],
   "source": [
    "def get_file_index(location):\n",
    "    with open(location, \"r\") as f:\n",
    "        content = f.read()\n",
    "        clean_content = content.lower()\n",
    "        return text_to_idx(tokenize(clean_content))\n",
    "idx = get_file_index(\"Selma/marbacka.txt\")"
   ]
  },
  {
   "cell_type": "code",
   "execution_count": 10,
   "metadata": {},
   "outputs": [
    {
     "data": {
      "text/plain": [
       "[16,\n",
       " 139,\n",
       " 752,\n",
       " 1700,\n",
       " 2582,\n",
       " 3324,\n",
       " 15117,\n",
       " 15404,\n",
       " 27794,\n",
       " 42175,\n",
       " 49126,\n",
       " 50407,\n",
       " 52053,\n",
       " 60144,\n",
       " 63374,\n",
       " 64910,\n",
       " 67182,\n",
       " 67330,\n",
       " 67799,\n",
       " 67824,\n",
       " 69232,\n",
       " 71328,\n",
       " 72099,\n",
       " 74147,\n",
       " 74255,\n",
       " 74614,\n",
       " 76610,\n",
       " 76884,\n",
       " 77138,\n",
       " 77509,\n",
       " 77787,\n",
       " 77936,\n",
       " 78574,\n",
       " 80597,\n",
       " 81782,\n",
       " 82003,\n",
       " 84363,\n",
       " 84786,\n",
       " 85251,\n",
       " 89837,\n",
       " 97093,\n",
       " 98642,\n",
       " 100474,\n",
       " 105063,\n",
       " 105298,\n",
       " 105721,\n",
       " 108710,\n",
       " 109133,\n",
       " 112844,\n",
       " 113725,\n",
       " 114997,\n",
       " 115583,\n",
       " 115833,\n",
       " 116368,\n",
       " 116557,\n",
       " 121896,\n",
       " 124823,\n",
       " 126409,\n",
       " 126542,\n",
       " 128758,\n",
       " 130976,\n",
       " 131939,\n",
       " 132826,\n",
       " 136914,\n",
       " 137187,\n",
       " 137872,\n",
       " 139196,\n",
       " 140721,\n",
       " 142324,\n",
       " 146781,\n",
       " 151497,\n",
       " 154335,\n",
       " 155139,\n",
       " 155438,\n",
       " 155886,\n",
       " 156405,\n",
       " 158108,\n",
       " 159817,\n",
       " 160107,\n",
       " 161158,\n",
       " 162085,\n",
       " 165847,\n",
       " 168316,\n",
       " 168528,\n",
       " 169111,\n",
       " 170333,\n",
       " 172684,\n",
       " 182047,\n",
       " 182427,\n",
       " 186362,\n",
       " 189535,\n",
       " 190999,\n",
       " 191110,\n",
       " 193177,\n",
       " 196686,\n",
       " 202552,\n",
       " 206340,\n",
       " 207789,\n",
       " 208382,\n",
       " 209874,\n",
       " 210525,\n",
       " 217464,\n",
       " 219933,\n",
       " 221393,\n",
       " 221533,\n",
       " 221880,\n",
       " 222213,\n",
       " 224190,\n",
       " 229501,\n",
       " 229598,\n",
       " 230783,\n",
       " 231453,\n",
       " 232140,\n",
       " 234427,\n",
       " 236193,\n",
       " 236950,\n",
       " 240168,\n",
       " 241891,\n",
       " 242359,\n",
       " 242934,\n",
       " 243030,\n",
       " 244831,\n",
       " 249882,\n",
       " 251277,\n",
       " 251901,\n",
       " 256360,\n",
       " 260244,\n",
       " 261612,\n",
       " 262384,\n",
       " 263856,\n",
       " 266638,\n",
       " 269760,\n",
       " 270113,\n",
       " 270674,\n",
       " 271146,\n",
       " 271885,\n",
       " 272560,\n",
       " 273464,\n",
       " 275086,\n",
       " 275664,\n",
       " 276207,\n",
       " 277407,\n",
       " 292648,\n",
       " 299762,\n",
       " 306277,\n",
       " 307507,\n",
       " 307972,\n",
       " 308148,\n",
       " 308330,\n",
       " 308568,\n",
       " 311856,\n",
       " 317491,\n",
       " 321194,\n",
       " 321925,\n",
       " 328154,\n",
       " 328470,\n",
       " 328977,\n",
       " 330435,\n",
       " 331650,\n",
       " 337494,\n",
       " 340526,\n",
       " 348636,\n",
       " 349331,\n",
       " 350022,\n",
       " 350168,\n",
       " 350674,\n",
       " 350949,\n",
       " 351349,\n",
       " 354175,\n",
       " 354411,\n",
       " 356314,\n",
       " 356541,\n",
       " 356788,\n",
       " 357522,\n",
       " 358413,\n",
       " 359478,\n",
       " 360511,\n",
       " 362108,\n",
       " 363675,\n",
       " 364467,\n",
       " 365049,\n",
       " 366954,\n",
       " 367286,\n",
       " 367741,\n",
       " 368878,\n",
       " 369487,\n",
       " 373757,\n",
       " 377123,\n",
       " 378852,\n",
       " 379696]"
      ]
     },
     "execution_count": 10,
     "metadata": {},
     "output_type": "execute_result"
    }
   ],
   "source": [
    "idx['mårbacka']"
   ]
  },
  {
   "cell_type": "markdown",
   "metadata": {},
   "source": [
    "#### Saving the index"
   ]
  },
  {
   "cell_type": "markdown",
   "metadata": {},
   "source": [
    "Save your index in a file so that you can reuse it. Use the pickle module."
   ]
  },
  {
   "cell_type": "code",
   "execution_count": 11,
   "metadata": {},
   "outputs": [],
   "source": [
    "pickle.dump(idx, open(\"idx.p\", \"wb\"))"
   ]
  },
  {
   "cell_type": "code",
   "execution_count": 12,
   "metadata": {},
   "outputs": [],
   "source": [
    "idx = pickle.load(open(\"idx.p\", \"rb\"))"
   ]
  },
  {
   "cell_type": "code",
   "execution_count": 13,
   "metadata": {},
   "outputs": [
    {
     "data": {
      "text/plain": [
       "[16,\n",
       " 139,\n",
       " 752,\n",
       " 1700,\n",
       " 2582,\n",
       " 3324,\n",
       " 15117,\n",
       " 15404,\n",
       " 27794,\n",
       " 42175,\n",
       " 49126,\n",
       " 50407,\n",
       " 52053,\n",
       " 60144,\n",
       " 63374,\n",
       " 64910,\n",
       " 67182,\n",
       " 67330,\n",
       " 67799,\n",
       " 67824,\n",
       " 69232,\n",
       " 71328,\n",
       " 72099,\n",
       " 74147,\n",
       " 74255,\n",
       " 74614,\n",
       " 76610,\n",
       " 76884,\n",
       " 77138,\n",
       " 77509,\n",
       " 77787,\n",
       " 77936,\n",
       " 78574,\n",
       " 80597,\n",
       " 81782,\n",
       " 82003,\n",
       " 84363,\n",
       " 84786,\n",
       " 85251,\n",
       " 89837,\n",
       " 97093,\n",
       " 98642,\n",
       " 100474,\n",
       " 105063,\n",
       " 105298,\n",
       " 105721,\n",
       " 108710,\n",
       " 109133,\n",
       " 112844,\n",
       " 113725,\n",
       " 114997,\n",
       " 115583,\n",
       " 115833,\n",
       " 116368,\n",
       " 116557,\n",
       " 121896,\n",
       " 124823,\n",
       " 126409,\n",
       " 126542,\n",
       " 128758,\n",
       " 130976,\n",
       " 131939,\n",
       " 132826,\n",
       " 136914,\n",
       " 137187,\n",
       " 137872,\n",
       " 139196,\n",
       " 140721,\n",
       " 142324,\n",
       " 146781,\n",
       " 151497,\n",
       " 154335,\n",
       " 155139,\n",
       " 155438,\n",
       " 155886,\n",
       " 156405,\n",
       " 158108,\n",
       " 159817,\n",
       " 160107,\n",
       " 161158,\n",
       " 162085,\n",
       " 165847,\n",
       " 168316,\n",
       " 168528,\n",
       " 169111,\n",
       " 170333,\n",
       " 172684,\n",
       " 182047,\n",
       " 182427,\n",
       " 186362,\n",
       " 189535,\n",
       " 190999,\n",
       " 191110,\n",
       " 193177,\n",
       " 196686,\n",
       " 202552,\n",
       " 206340,\n",
       " 207789,\n",
       " 208382,\n",
       " 209874,\n",
       " 210525,\n",
       " 217464,\n",
       " 219933,\n",
       " 221393,\n",
       " 221533,\n",
       " 221880,\n",
       " 222213,\n",
       " 224190,\n",
       " 229501,\n",
       " 229598,\n",
       " 230783,\n",
       " 231453,\n",
       " 232140,\n",
       " 234427,\n",
       " 236193,\n",
       " 236950,\n",
       " 240168,\n",
       " 241891,\n",
       " 242359,\n",
       " 242934,\n",
       " 243030,\n",
       " 244831,\n",
       " 249882,\n",
       " 251277,\n",
       " 251901,\n",
       " 256360,\n",
       " 260244,\n",
       " 261612,\n",
       " 262384,\n",
       " 263856,\n",
       " 266638,\n",
       " 269760,\n",
       " 270113,\n",
       " 270674,\n",
       " 271146,\n",
       " 271885,\n",
       " 272560,\n",
       " 273464,\n",
       " 275086,\n",
       " 275664,\n",
       " 276207,\n",
       " 277407,\n",
       " 292648,\n",
       " 299762,\n",
       " 306277,\n",
       " 307507,\n",
       " 307972,\n",
       " 308148,\n",
       " 308330,\n",
       " 308568,\n",
       " 311856,\n",
       " 317491,\n",
       " 321194,\n",
       " 321925,\n",
       " 328154,\n",
       " 328470,\n",
       " 328977,\n",
       " 330435,\n",
       " 331650,\n",
       " 337494,\n",
       " 340526,\n",
       " 348636,\n",
       " 349331,\n",
       " 350022,\n",
       " 350168,\n",
       " 350674,\n",
       " 350949,\n",
       " 351349,\n",
       " 354175,\n",
       " 354411,\n",
       " 356314,\n",
       " 356541,\n",
       " 356788,\n",
       " 357522,\n",
       " 358413,\n",
       " 359478,\n",
       " 360511,\n",
       " 362108,\n",
       " 363675,\n",
       " 364467,\n",
       " 365049,\n",
       " 366954,\n",
       " 367286,\n",
       " 367741,\n",
       " 368878,\n",
       " 369487,\n",
       " 373757,\n",
       " 377123,\n",
       " 378852,\n",
       " 379696]"
      ]
     },
     "execution_count": 13,
     "metadata": {},
     "output_type": "execute_result"
    }
   ],
   "source": [
    "idx['mårbacka']"
   ]
  },
  {
   "cell_type": "markdown",
   "metadata": {},
   "source": [
    "### Reading the content of a folder"
   ]
  },
  {
   "cell_type": "markdown",
   "metadata": {},
   "source": [
    "Write a `get_files(dir, suffix)` function that reads all the files in a folder with a specific `suffix` (txt). You will need the Python `os` package, see <a href=\"https://docs.python.org/3/library/os.html\">https://docs.python.org/3/library/os.html</a>. You will return the file names in a list."
   ]
  },
  {
   "cell_type": "markdown",
   "metadata": {},
   "source": [
    "You can reuse this function:"
   ]
  },
  {
   "cell_type": "code",
   "execution_count": 14,
   "metadata": {},
   "outputs": [],
   "source": [
    "def get_files(dir, suffix):\n",
    "    \"\"\"\n",
    "    Returns all the files in a folder ending with suffix\n",
    "    :param dir:\n",
    "    :param suffix:\n",
    "    :return: the list of file names\n",
    "    \"\"\"\n",
    "    files = []\n",
    "    for file in os.listdir(dir):\n",
    "        if file.endswith(suffix):\n",
    "            files.append(file)\n",
    "    return files"
   ]
  },
  {
   "cell_type": "code",
   "execution_count": 15,
   "metadata": {},
   "outputs": [],
   "source": [
    "# TODO: Do this cell - what exactly is being asked?\n",
    "def get_files_indexes(dir, suffix):\n",
    "    files = get_files(dir, suffix)\n",
    "    for file in files:\n",
    "        with open(dir + \"/\" + file, \"r\") as f:\n",
    "            content = f.read()\n",
    "            clean_content = content.lower()\n",
    "            idx = text_to_idx(tokenize(clean_content))\n",
    "            \n",
    "\n",
    "get_files(\"Selma\", \"txt\")\n",
    "get_files_indexes(\"Selma\", \"txt\")"
   ]
  },
  {
   "cell_type": "markdown",
   "metadata": {},
   "source": [
    "### Creating a master index"
   ]
  },
  {
   "cell_type": "markdown",
   "metadata": {},
   "source": [
    "Complete your program with the creation of master index, where you will associate each word of the corpus with the files, where it occur and its positions: a posting list\n",
    "Below is an except of the master index with the words <i>samlar</i> and <i>ände</i>:"
   ]
  },
  {
   "cell_type": "code",
   "execution_count": 16,
   "metadata": {},
   "outputs": [
    {
     "data": {
      "text/plain": [
       "{'samlar': {'troll.txt': [641880, 654233],\n",
       "  'nils.txt': [51805, 118943],\n",
       "  'osynliga.txt': [399121],\n",
       "  'gosta.txt': [313784, 409998, 538165]},\n",
       " 'ände': {'troll.txt': [39562, 650112],\n",
       "  'kejsaren.txt': [50171],\n",
       "  'marbacka.txt': [370324],\n",
       "  'nils.txt': [1794],\n",
       "  'osynliga.txt': [272144]}}"
      ]
     },
     "execution_count": 16,
     "metadata": {},
     "output_type": "execute_result"
    }
   ],
   "source": [
    "{'samlar':\n",
    "            {'troll.txt': [641880, 654233],\n",
    "            'nils.txt': [51805, 118943],\n",
    "            'osynliga.txt': [399121],\n",
    "            'gosta.txt': [313784, 409998, 538165]},\n",
    " 'ände':\n",
    "            {'troll.txt': [39562, 650112],\n",
    "            'kejsaren.txt': [50171],\n",
    "            'marbacka.txt': [370324],\n",
    "            'nils.txt': [1794],\n",
    "            'osynliga.txt': [272144]}\n",
    "}"
   ]
  },
  {
   "cell_type": "markdown",
   "metadata": {},
   "source": [
    "The word <i>samlar</i>, for instance, occurs three times in the gosta text at positions\n",
    "            313784, 409998, and 538165."
   ]
  },
  {
   "cell_type": "code",
   "execution_count": 17,
   "metadata": {},
   "outputs": [],
   "source": [
    "all_files = get_files(\"Selma\", \"txt\")\n",
    "master_index = {}\n",
    "for filename in all_files:\n",
    "    file_idx = get_file_index(\"Selma/\" + filename)\n",
    "    for word in file_idx.keys():\n",
    "        files_positions = master_index.get(word, {})\n",
    "        positions = files_positions.get(filename, [])\n",
    "        positions.extend(file_idx[word])\n",
    "        files_positions[filename] = positions\n",
    "        master_index[word] = files_positions"
   ]
  },
  {
   "cell_type": "code",
   "execution_count": 18,
   "metadata": {},
   "outputs": [
    {
     "data": {
      "text/plain": [
       "{'osynliga.txt': [399121],\n",
       " 'troll.txt': [641880, 654233],\n",
       " 'gosta.txt': [313784, 409998, 538165],\n",
       " 'nils.txt': [51805, 118943]}"
      ]
     },
     "execution_count": 18,
     "metadata": {},
     "output_type": "execute_result"
    }
   ],
   "source": [
    "master_index['samlar']"
   ]
  },
  {
   "cell_type": "code",
   "execution_count": 19,
   "metadata": {},
   "outputs": [
    {
     "data": {
      "text/plain": [
       "{'troll.txt': [226291, 387634, 392959],\n",
       " 'marbacka.txt': [16,\n",
       "  139,\n",
       "  752,\n",
       "  1700,\n",
       "  2582,\n",
       "  3324,\n",
       "  15117,\n",
       "  15404,\n",
       "  27794,\n",
       "  42175,\n",
       "  49126,\n",
       "  50407,\n",
       "  52053,\n",
       "  60144,\n",
       "  63374,\n",
       "  64910,\n",
       "  67182,\n",
       "  67330,\n",
       "  67799,\n",
       "  67824,\n",
       "  69232,\n",
       "  71328,\n",
       "  72099,\n",
       "  74147,\n",
       "  74255,\n",
       "  74614,\n",
       "  76610,\n",
       "  76884,\n",
       "  77138,\n",
       "  77509,\n",
       "  77787,\n",
       "  77936,\n",
       "  78574,\n",
       "  80597,\n",
       "  81782,\n",
       "  82003,\n",
       "  84363,\n",
       "  84786,\n",
       "  85251,\n",
       "  89837,\n",
       "  97093,\n",
       "  98642,\n",
       "  100474,\n",
       "  105063,\n",
       "  105298,\n",
       "  105721,\n",
       "  108710,\n",
       "  109133,\n",
       "  112844,\n",
       "  113725,\n",
       "  114997,\n",
       "  115583,\n",
       "  115833,\n",
       "  116368,\n",
       "  116557,\n",
       "  121896,\n",
       "  124823,\n",
       "  126409,\n",
       "  126542,\n",
       "  128758,\n",
       "  130976,\n",
       "  131939,\n",
       "  132826,\n",
       "  136914,\n",
       "  137187,\n",
       "  137872,\n",
       "  139196,\n",
       "  140721,\n",
       "  142324,\n",
       "  146781,\n",
       "  151497,\n",
       "  154335,\n",
       "  155139,\n",
       "  155438,\n",
       "  155886,\n",
       "  156405,\n",
       "  158108,\n",
       "  159817,\n",
       "  160107,\n",
       "  161158,\n",
       "  162085,\n",
       "  165847,\n",
       "  168316,\n",
       "  168528,\n",
       "  169111,\n",
       "  170333,\n",
       "  172684,\n",
       "  182047,\n",
       "  182427,\n",
       "  186362,\n",
       "  189535,\n",
       "  190999,\n",
       "  191110,\n",
       "  193177,\n",
       "  196686,\n",
       "  202552,\n",
       "  206340,\n",
       "  207789,\n",
       "  208382,\n",
       "  209874,\n",
       "  210525,\n",
       "  217464,\n",
       "  219933,\n",
       "  221393,\n",
       "  221533,\n",
       "  221880,\n",
       "  222213,\n",
       "  224190,\n",
       "  229501,\n",
       "  229598,\n",
       "  230783,\n",
       "  231453,\n",
       "  232140,\n",
       "  234427,\n",
       "  236193,\n",
       "  236950,\n",
       "  240168,\n",
       "  241891,\n",
       "  242359,\n",
       "  242934,\n",
       "  243030,\n",
       "  244831,\n",
       "  249882,\n",
       "  251277,\n",
       "  251901,\n",
       "  256360,\n",
       "  260244,\n",
       "  261612,\n",
       "  262384,\n",
       "  263856,\n",
       "  266638,\n",
       "  269760,\n",
       "  270113,\n",
       "  270674,\n",
       "  271146,\n",
       "  271885,\n",
       "  272560,\n",
       "  273464,\n",
       "  275086,\n",
       "  275664,\n",
       "  276207,\n",
       "  277407,\n",
       "  292648,\n",
       "  299762,\n",
       "  306277,\n",
       "  307507,\n",
       "  307972,\n",
       "  308148,\n",
       "  308330,\n",
       "  308568,\n",
       "  311856,\n",
       "  317491,\n",
       "  321194,\n",
       "  321925,\n",
       "  328154,\n",
       "  328470,\n",
       "  328977,\n",
       "  330435,\n",
       "  331650,\n",
       "  337494,\n",
       "  340526,\n",
       "  348636,\n",
       "  349331,\n",
       "  350022,\n",
       "  350168,\n",
       "  350674,\n",
       "  350949,\n",
       "  351349,\n",
       "  354175,\n",
       "  354411,\n",
       "  356314,\n",
       "  356541,\n",
       "  356788,\n",
       "  357522,\n",
       "  358413,\n",
       "  359478,\n",
       "  360511,\n",
       "  362108,\n",
       "  363675,\n",
       "  364467,\n",
       "  365049,\n",
       "  366954,\n",
       "  367286,\n",
       "  367741,\n",
       "  368878,\n",
       "  369487,\n",
       "  373757,\n",
       "  377123,\n",
       "  378852,\n",
       "  379696],\n",
       " 'nils.txt': [991703]}"
      ]
     },
     "execution_count": 19,
     "metadata": {},
     "output_type": "execute_result"
    }
   ],
   "source": [
    "master_index['mårbacka']"
   ]
  },
  {
   "cell_type": "markdown",
   "metadata": {},
   "source": [
    "Save your master index in a file and read it again"
   ]
  },
  {
   "cell_type": "code",
   "execution_count": 20,
   "metadata": {},
   "outputs": [],
   "source": [
    "pickle.dump(master_index, open(\"master_index.p\", \"wb\"))\n",
    "master_index = pickle.load(open(\"master_index.p\", \"rb\"))"
   ]
  },
  {
   "cell_type": "code",
   "execution_count": 21,
   "metadata": {},
   "outputs": [
    {
     "data": {
      "text/plain": [
       "{'osynliga.txt': [399121],\n",
       " 'troll.txt': [641880, 654233],\n",
       " 'gosta.txt': [313784, 409998, 538165],\n",
       " 'nils.txt': [51805, 118943]}"
      ]
     },
     "execution_count": 21,
     "metadata": {},
     "output_type": "execute_result"
    }
   ],
   "source": [
    "master_index['samlar']"
   ]
  },
  {
   "cell_type": "markdown",
   "metadata": {},
   "source": [
    "#### Concordances"
   ]
  },
  {
   "cell_type": "markdown",
   "metadata": {},
   "source": [
    "Write a `concordance(word, master_index, window)` function to extract the concordances of a `word` within a window of `window` characters"
   ]
  },
  {
   "cell_type": "code",
   "execution_count": 22,
   "metadata": {},
   "outputs": [],
   "source": [
    "def concordance(word, master_index, window):\n",
    "    for matching_file in master_index[word]:\n",
    "        print(matching_file)\n",
    "        with open(\"Selma/\" + matching_file, \"r\") as f:\n",
    "            content = f.read().lower()\n",
    "            for starting_index in master_index[word][matching_file]:\n",
    "                print(\" \"*8, end='')\n",
    "                print(content[starting_index-window:starting_index+window].replace(\"\\n\", \" \"))\n",
    "            "
   ]
  },
  {
   "cell_type": "code",
   "execution_count": 23,
   "metadata": {},
   "outputs": [
    {
     "name": "stdout",
     "output_type": "stream",
     "text": [
      "osynliga.txt\n",
      "         till höger i kärran och samlar just ihop tömmarna\n",
      "troll.txt\n",
      "        en örtkunnig läkare, som samlar in markens växter \n",
      "        älper dem, och medan hon samlar och handlar för de\n",
      "gosta.txt\n",
      "        om ligger nära borg, och samlar ihop ett litet mid\n",
      "        lika förstämda.  men hon samlar upp allt detta som\n",
      "        n ensam i livet.  därmed samlar han korten tillhop\n",
      "nils.txt\n",
      "         bara, att du i all hast samlar ihop så mycket bos\n",
      "        ar stannat hemma, och nu samlar de sig för att int\n"
     ]
    }
   ],
   "source": [
    "concordance('samlar', master_index, 25)"
   ]
  },
  {
   "cell_type": "markdown",
   "metadata": {},
   "source": [
    "### Representing Documents with tf-idf"
   ]
  },
  {
   "cell_type": "markdown",
   "metadata": {},
   "source": [
    "Once you have created the index, you will represent each document in your corpus as a dictionary. The keys of these dictionaries will be the words and you will define the value of a word with the tf-idf metric: \n",
    "1. Read the description of the tf-idf measure on Wikipedia (<a href=\"https://en.wikipedia.org/wiki/Tf%E2%80%93idf\">https://en.wikipedia.org/wiki/Tf-idf</a>)\n",
    "2. After reading the description, you probably realized that there are multiple definitions of tf-idf. In this assignment, \n",
    " * Tf will be the relative frequency of the term in the document and \n",
    " * idf, the logarithm base 10 of the inverse document frequency.\n",
    "        \n",
    "You have below the tf-idf values for a few words. In our example, the word <i>gås</i> has the value 0 in bannlyst.txt and the value 0.000101001964 in nils.txt\n",
    "\n",
    "<pre>\n",
    "troll.txt\n",
    "\tkänna\t 0.0\n",
    "\tgås\t 0.0\n",
    "\tnils\t 2.148161748868631e-06\n",
    "\tet\t 0.0\n",
    "kejsaren.txt\n",
    "\tkänna\t 0.0\n",
    "\tgås\t 0.0\n",
    "\tnils\t 8.08284798629935e-06\n",
    "\tet\t 8.273225429362848e-05\n",
    "marbacka.txt\n",
    "\tkänna\t 0.0\n",
    "\tgås\t 0.0\n",
    "\tnils\t 7.582276564686669e-06\n",
    "\tet\t 9.70107989686256e-06\n",
    "herrgard.txt\n",
    "\tkänna\t 0.0\n",
    "\tgås\t 0.0\n",
    "\tnils\t 0.0\n",
    "\tet\t 0.0\n",
    "nils.txt\n",
    "\tkänna\t 0.0\n",
    "\tgås\t 0.00010100196417506702\n",
    "\tnils\t 0.00010164426900380124\n",
    "\tet\t 0.0\n",
    "osynliga.txt\n",
    "\tkänna\t 0.0\n",
    "\tgås\t 0.0\n",
    "\tnils\t 0.0\n",
    "\tet\t 0.0\n",
    "jerusalem.txt\n",
    "\tkänna\t 0.0\n",
    "\tgås\t 0.0\n",
    "\tnils\t 4.968292117670952e-06\n",
    "\tet\t 0.0\n",
    "bannlyst.txt\n",
    "\tkänna\t 0.0\n",
    "\tgås\t 0.0\n",
    "\tnils\t 0.0\n",
    "\tet\t 0.0\n",
    "gosta.txt\n",
    "\tkänna\t 0.0\n",
    "\tgås\t 0.0\n",
    "\tnils\t 0.0\n",
    "\tet\t 0.0\n",
    "</pre>"
   ]
  },
  {
   "cell_type": "markdown",
   "metadata": {},
   "source": [
    "Conceptually, the tf-idf representation is a vector. In your program, you will keep this idea and use all the words in the corpus as keys: Each dictionary will include all the words of the corpus as keys. The value of the key is then possibly 0, meaning that the word in not in the document or is in all the documents as for the word `nils` in `gosta.tx`. \n",
    "\n",
    "As further work, you may think of optimizing this part."
   ]
  },
  {
   "cell_type": "code",
   "execution_count": 37,
   "metadata": {},
   "outputs": [],
   "source": [
    "# Get number of words in each file\n",
    "words_number = {}\n",
    "all_files = get_files(\"Selma\", \"txt\")\n",
    "number_of_files = len(all_files)\n",
    "for filename in all_files:\n",
    "    for word in master_index.keys():\n",
    "        occurences = master_index[word].get(filename, [])\n",
    "        total = words_number.get(filename, 0)\n",
    "        total += len(occurences)\n",
    "        words_number[filename] = total\n",
    "\n",
    "# Calculate tf * idf for each file and word\n",
    "tfidf = {}\n",
    "for filename in words_number.keys():\n",
    "    for word in master_index.keys():\n",
    "        occurences = master_index[word].get(filename, [])\n",
    "        tf = len(occurences)/words_number[filename]\n",
    "        idf = math.log(number_of_files/len(master_index[word].keys()), 10)\n",
    "        filename_words = tfidf.get(filename, {})\n",
    "        filename_words[word] = tf * idf\n",
    "        tfidf[filename] = filename_words\n",
    "        "
   ]
  },
  {
   "cell_type": "code",
   "execution_count": 38,
   "metadata": {},
   "outputs": [
    {
     "data": {
      "text/plain": [
       "0.0"
      ]
     },
     "execution_count": 38,
     "metadata": {},
     "output_type": "execute_result"
    }
   ],
   "source": [
    "tfidf['troll.txt']['känna']"
   ]
  },
  {
   "cell_type": "code",
   "execution_count": 39,
   "metadata": {},
   "outputs": [
    {
     "data": {
      "text/plain": [
       "2.1481617488686316e-06"
      ]
     },
     "execution_count": 39,
     "metadata": {},
     "output_type": "execute_result"
    }
   ],
   "source": [
    "tfidf['troll.txt']['nils']"
   ]
  },
  {
   "cell_type": "markdown",
   "metadata": {},
   "source": [
    "### Comparing Documents"
   ]
  },
  {
   "cell_type": "markdown",
   "metadata": {},
   "source": [
    "Using the cosine similarity, compare all the pairs of documents with their tf-idf representation and present your results in a table. You will include this table in your report."
   ]
  },
  {
   "cell_type": "markdown",
   "metadata": {},
   "source": [
    "#### Cosine similarity"
   ]
  },
  {
   "cell_type": "markdown",
   "metadata": {},
   "source": [
    "Write a function computing the cosine similarity between two documents"
   ]
  },
  {
   "cell_type": "code",
   "execution_count": 44,
   "metadata": {},
   "outputs": [
    {
     "data": {
      "text/plain": [
       "0.14715376695799096"
      ]
     },
     "execution_count": 44,
     "metadata": {},
     "output_type": "execute_result"
    }
   ],
   "source": [
    "def cosine_similarity(doc1, doc2):\n",
    "    doc1_vector = list(tfidf[doc1].values())\n",
    "    doc2_vector = list(tfidf[doc2].values())\n",
    "    \n",
    "    dot_product = 0\n",
    "    for i in range(len(doc1_vector)):\n",
    "        dot_product += doc1_vector[i] * doc2_vector[i]\n",
    "    \n",
    "    doc1_vector_norm = 0\n",
    "    doc2_vector_norm = 0\n",
    "    for i in range(len(doc1_vector)):\n",
    "        doc1_vector_norm += doc1_vector[i]**2\n",
    "        doc2_vector_norm += doc2_vector[i]**2\n",
    "    \n",
    "    doc1_vector_norm **= 0.5 # sqrt\n",
    "    doc2_vector_norm **= 0.5\n",
    "        \n",
    "    return dot_product / (doc1_vector_norm * doc2_vector_norm)\n",
    "\n",
    "cosine_similarity('troll.txt', 'marbacka.txt')\n",
    "    "
   ]
  },
  {
   "cell_type": "markdown",
   "metadata": {},
   "source": [
    "#### Similarity matrix"
   ]
  },
  {
   "cell_type": "markdown",
   "metadata": {},
   "source": [
    "Compute the similarity matrix between the documents of the corpus. While computing the similarities, you will record the two most similar documents that you will call `most_sim_doc1` and `most_sim_doc2`."
   ]
  },
  {
   "cell_type": "code",
   "execution_count": 72,
   "metadata": {
    "scrolled": false
   },
   "outputs": [
    {
     "name": "stdout",
     "output_type": "stream",
     "text": [
      "                osynliga.txt  jerusalem.txt troll.txt     gosta.txt     herrgard.txt  kejsaren.txt  marbacka.txt  nils.txt      bannlyst.txt  \n",
      "osynliga.txt    1.0000        0.0283        0.1926        0.1248        0.0048        0.0511        0.0932        0.1106        0.0521        \n",
      "jerusalem.txt   0.0283        1.0000        0.0071        0.0043        0.3707        0.0018        0.0049        0.0045        0.0065        \n",
      "troll.txt       0.1926        0.0071        1.0000        0.1957        0.0041        0.1813        0.1472        0.1885        0.0886        \n",
      "gosta.txt       0.1248        0.0043        0.1957        1.0000        0.0031        0.0480        0.0802        0.1048        0.0490        \n",
      "herrgard.txt    0.0048        0.3707        0.0041        0.0031        1.0000        0.0007        0.0036        0.0051        0.0009        \n",
      "kejsaren.txt    0.0511        0.0018        0.1813        0.0480        0.0007        1.0000        0.0711        0.0497        0.0240        \n",
      "marbacka.txt    0.0932        0.0049        0.1472        0.0802        0.0036        0.0711        1.0000        0.0847        0.0368        \n",
      "nils.txt        0.1106        0.0045        0.1885        0.1048        0.0051        0.0497        0.0847        1.0000        0.0510        \n",
      "bannlyst.txt    0.0521        0.0065        0.0886        0.0490        0.0009        0.0240        0.0368        0.0510        1.0000        \n"
     ]
    }
   ],
   "source": [
    "matrix = {}\n",
    "for filename in all_files:\n",
    "    matrix[filename] = {}\n",
    "    for filename2 in all_files:\n",
    "        similarity = cosine_similarity(filename, filename2)\n",
    "        matrix[filename][filename2] = similarity\n",
    "\n",
    "# This table displays better in a larger jupyter column, which does not appear to be configurable (only by editing the CSS)\n",
    "\n",
    "print(\" \"*16 + (\"{:<13} \"*len(all_files)).format(*all_files))\n",
    "for filename in matrix:\n",
    "    similarities = matrix[filename]\n",
    "    print((\"{:<15} \" + \"{:<13.4f} \"*len(all_files)).format(filename, *(similarities.values())))\n",
    "    \n",
    "# Find most similar document\n",
    "most_similar = (\"\", \"\", 0)\n",
    "for filename in matrix:\n",
    "    for other_filename in matrix:\n",
    "        similarity = matrix[filename][other_filename]\n",
    "        if filename != other_filename and similarity >= most_similar[2]:\n",
    "            most_similar = (filename, other_filename, similarity)\n",
    "            \n",
    "most_sim_doc1 = most_similar[0]\n",
    "most_sim_doc2 = most_similar[1]\n",
    "max_similarity = most_similar[2]"
   ]
  },
  {
   "cell_type": "markdown",
   "metadata": {},
   "source": [
    "Give the name of the two novels that are the most similar."
   ]
  },
  {
   "cell_type": "code",
   "execution_count": 73,
   "metadata": {},
   "outputs": [
    {
     "name": "stdout",
     "output_type": "stream",
     "text": [
      "Most similar: herrgard.txt jerusalem.txt Similarity: 0.37068942387339665\n"
     ]
    }
   ],
   "source": [
    "print(\"Most similar:\", most_sim_doc1, most_sim_doc2, \"Similarity:\", max_similarity)"
   ]
  },
  {
   "cell_type": "markdown",
   "metadata": {},
   "source": [
    "<h2>Reading</h2>"
   ]
  },
  {
   "cell_type": "markdown",
   "metadata": {},
   "source": [
    "Now you are done, it is time to write your individual report. You will describe the indexer and comment the results.\n",
    "\n",
    "You will also read the text: <i>Challenges in Building Large-Scale Information Retrieval Systems</i> about the history of <a href=\"https://research.google.com/people/jeff/WSDM09-keynote.pdf\">Google indexing</a> by <a href=\"https://research.google.com/pubs/jeff.html\">Jeff Dean</a>.\n",
    "\n",
    "In your report, you will tell how your index encoding is related to what Google did. You must identify the slide where you have the most similar indexing technique and write the slide number in your report."
   ]
  },
  {
   "cell_type": "code",
   "execution_count": null,
   "metadata": {},
   "outputs": [],
   "source": []
  }
 ],
 "metadata": {
  "kernelspec": {
   "display_name": "Python 3",
   "language": "python",
   "name": "python3"
  },
  "language_info": {
   "codemirror_mode": {
    "name": "ipython",
    "version": 3
   },
   "file_extension": ".py",
   "mimetype": "text/x-python",
   "name": "python",
   "nbconvert_exporter": "python",
   "pygments_lexer": "ipython3",
   "version": "3.8.3"
  }
 },
 "nbformat": 4,
 "nbformat_minor": 4
}
